{
 "cells": [
  {
   "cell_type": "code",
   "execution_count": 1,
   "id": "2f7cf735",
   "metadata": {},
   "outputs": [
    {
     "name": "stdout",
     "output_type": "stream",
     "text": [
      "Collecting tweepy\n",
      "  Downloading tweepy-4.14.0-py3-none-any.whl (98 kB)\n",
      "     -------------------------------------- 98.5/98.5 kB 630.6 kB/s eta 0:00:00\n",
      "Requirement already satisfied: requests<3,>=2.27.0 in d:\\yogg documents\\lib\\site-packages (from tweepy) (2.28.1)\n",
      "Collecting oauthlib<4,>=3.2.0\n",
      "  Downloading oauthlib-3.2.2-py3-none-any.whl (151 kB)\n",
      "     ------------------------------------ 151.7/151.7 kB 693.4 kB/s eta 0:00:00\n",
      "Collecting requests-oauthlib<2,>=1.2.0\n",
      "  Downloading requests_oauthlib-1.3.1-py2.py3-none-any.whl (23 kB)\n",
      "Requirement already satisfied: charset-normalizer<3,>=2 in d:\\yogg documents\\lib\\site-packages (from requests<3,>=2.27.0->tweepy) (2.0.4)\n",
      "Requirement already satisfied: urllib3<1.27,>=1.21.1 in d:\\yogg documents\\lib\\site-packages (from requests<3,>=2.27.0->tweepy) (1.26.11)\n",
      "Requirement already satisfied: certifi>=2017.4.17 in d:\\yogg documents\\lib\\site-packages (from requests<3,>=2.27.0->tweepy) (2022.9.14)\n",
      "Requirement already satisfied: idna<4,>=2.5 in d:\\yogg documents\\lib\\site-packages (from requests<3,>=2.27.0->tweepy) (3.3)\n",
      "Installing collected packages: oauthlib, requests-oauthlib, tweepy\n",
      "Successfully installed oauthlib-3.2.2 requests-oauthlib-1.3.1 tweepy-4.14.0\n",
      "Collecting geocoder\n",
      "  Downloading geocoder-1.38.1-py2.py3-none-any.whl (98 kB)\n",
      "     -------------------------------------- 98.6/98.6 kB 631.1 kB/s eta 0:00:00\n",
      "Requirement already satisfied: requests in d:\\yogg documents\\lib\\site-packages (from geocoder) (2.28.1)\n",
      "Requirement already satisfied: click in d:\\yogg documents\\lib\\site-packages (from geocoder) (8.0.4)\n",
      "Requirement already satisfied: future in d:\\yogg documents\\lib\\site-packages (from geocoder) (0.18.2)\n",
      "Requirement already satisfied: six in d:\\yogg documents\\lib\\site-packages (from geocoder) (1.16.0)\n",
      "Collecting ratelim\n",
      "  Downloading ratelim-0.1.6-py2.py3-none-any.whl (4.0 kB)\n",
      "Requirement already satisfied: colorama in d:\\yogg documents\\lib\\site-packages (from click->geocoder) (0.4.5)\n",
      "Requirement already satisfied: decorator in d:\\yogg documents\\lib\\site-packages (from ratelim->geocoder) (5.1.1)\n",
      "Requirement already satisfied: charset-normalizer<3,>=2 in d:\\yogg documents\\lib\\site-packages (from requests->geocoder) (2.0.4)\n",
      "Requirement already satisfied: idna<4,>=2.5 in d:\\yogg documents\\lib\\site-packages (from requests->geocoder) (3.3)\n",
      "Requirement already satisfied: certifi>=2017.4.17 in d:\\yogg documents\\lib\\site-packages (from requests->geocoder) (2022.9.14)\n",
      "Requirement already satisfied: urllib3<1.27,>=1.21.1 in d:\\yogg documents\\lib\\site-packages (from requests->geocoder) (1.26.11)\n",
      "Installing collected packages: ratelim, geocoder\n",
      "Successfully installed geocoder-1.38.1 ratelim-0.1.6\n"
     ]
    }
   ],
   "source": [
    "get_ipython().system('pip install tweepy')\n",
    "get_ipython().system('pip install geocoder')"
   ]
  },
  {
   "cell_type": "code",
   "execution_count": 2,
   "id": "8e7c9847",
   "metadata": {},
   "outputs": [],
   "source": [
    "import tweepy\n",
    "import pandas as pd\n",
    "import geocoder"
   ]
  },
  {
   "cell_type": "code",
   "execution_count": 3,
   "id": "0cf5e0a0",
   "metadata": {},
   "outputs": [],
   "source": [
    "consumer_key=\"mx5EJBuHZK2gaMm8FtuPhx0Rf\"\n",
    "consumer_secret=\"cZHZeSTebSSkDAmLpYA9YzF9U77JtsbWdNiaDi18ecsMq4Flw0\"\n",
    "access_token=\"4500086892-BUcwnowx8QfEpBbG6ks0UXG1KrVs8kFRqbdDTAQ\"\n",
    "access_token_secret=\"ZNQbCKYiYrb1b0404tWDHoLQUTsebMYx10OYUzULpAGhO\""
   ]
  },
  {
   "cell_type": "code",
   "execution_count": 4,
   "id": "d078ad06",
   "metadata": {},
   "outputs": [],
   "source": [
    "auth=tweepy.OAuthHandler(consumer_key,consumer_secret)\n",
    "auth.set_access_token(access_token,access_token_secret)\n",
    "api=tweepy.API(auth)"
   ]
  },
  {
   "cell_type": "code",
   "execution_count": 5,
   "id": "2b0a32c6",
   "metadata": {},
   "outputs": [],
   "source": [
    "# WOEID of INDIA\n",
    "woeid = 23424848"
   ]
  },
  {
   "cell_type": "code",
   "execution_count": 6,
   "id": "dfc03e80",
   "metadata": {},
   "outputs": [
    {
     "name": "stdout",
     "output_type": "stream",
     "text": [
      "The top trends for the location are :\n",
      "Gill\n",
      "Pooja Bellara Singh\n",
      "Bhuvi\n",
      "David W\n",
      "Bhuvneshwar Kumar\n",
      "Wriddhiman S\n",
      "L Wright\n",
      "S Marsh\n",
      "J Faulkner\n",
      "Yash Dayal\n",
      "Nupur Sharma\n",
      "PRIYANKIT TILL ETERNITY\n",
      "LKFC\n",
      "Siddaramaiah\n",
      "Philips\n",
      "SSR Absence Breaks Our Hearts\n",
      "CM of Karnataka\n",
      "Narendra Modi Stadium\n",
      "Jansen\n",
      "Rutu\n",
      "BEIRADA OUT TOMORROW\n",
      "Markram\n",
      "Prince\n",
      "मोहम्मद अली\n",
      "नुपुर शर्मा\n",
      "Sachin Pilot\n",
      "Zubair\n",
      "SEBI\n",
      "Akshay Kumar\n",
      "Dy CM\n",
      "Gehlot\n",
      "तेजस्वी यादव\n",
      "4 YEAR LAG FREE\n",
      "BOLD GOLD COLOR\n",
      "Stokes\n",
      "Waqf\n",
      "समीर वानखेड़े\n",
      "Aryan Khan\n",
      "8GB RAM\n",
      "Bhubaneswar\n",
      "High Command\n"
     ]
    }
   ],
   "source": [
    "trends = api.get_place_trends(id = woeid, exclude = \"hashtags\")\n",
    "print(\"The top trends for the location are :\")\n",
    "for value in trends:\n",
    "    for trend in value['trends']:\n",
    "        print(trend['name'])\n"
   ]
  },
  {
   "cell_type": "code",
   "execution_count": 7,
   "id": "12a817e9",
   "metadata": {},
   "outputs": [
    {
     "name": "stdout",
     "output_type": "stream",
     "text": [
      "Collecting textblob\n",
      "  Downloading textblob-0.17.1-py2.py3-none-any.whl (636 kB)\n",
      "     ------------------------------------ 636.8/636.8 kB 691.5 kB/s eta 0:00:00\n",
      "Requirement already satisfied: nltk>=3.1 in d:\\yogg documents\\lib\\site-packages (from textblob) (3.7)\n",
      "Requirement already satisfied: regex>=2021.8.3 in d:\\yogg documents\\lib\\site-packages (from nltk>=3.1->textblob) (2022.7.9)\n",
      "Requirement already satisfied: joblib in d:\\yogg documents\\lib\\site-packages (from nltk>=3.1->textblob) (1.1.0)\n",
      "Requirement already satisfied: tqdm in d:\\yogg documents\\lib\\site-packages (from nltk>=3.1->textblob) (4.64.1)\n",
      "Requirement already satisfied: click in d:\\yogg documents\\lib\\site-packages (from nltk>=3.1->textblob) (8.0.4)\n",
      "Requirement already satisfied: colorama in d:\\yogg documents\\lib\\site-packages (from click->nltk>=3.1->textblob) (0.4.5)\n",
      "Installing collected packages: textblob\n",
      "Successfully installed textblob-0.17.1\n",
      "Collecting pycountry\n",
      "  Downloading pycountry-22.3.5.tar.gz (10.1 MB)\n",
      "     -------------------------------------- 10.1/10.1 MB 934.4 kB/s eta 0:00:00\n",
      "  Installing build dependencies: started\n",
      "  Installing build dependencies: finished with status 'done'\n",
      "  Getting requirements to build wheel: started\n",
      "  Getting requirements to build wheel: finished with status 'done'\n",
      "  Preparing metadata (pyproject.toml): started\n",
      "  Preparing metadata (pyproject.toml): finished with status 'done'\n",
      "Requirement already satisfied: setuptools in d:\\yogg documents\\lib\\site-packages (from pycountry) (63.4.1)\n",
      "Building wheels for collected packages: pycountry\n",
      "  Building wheel for pycountry (pyproject.toml): started\n",
      "  Building wheel for pycountry (pyproject.toml): finished with status 'done'\n",
      "  Created wheel for pycountry: filename=pycountry-22.3.5-py2.py3-none-any.whl size=10681896 sha256=9532a96f3c9185b4ce38caedebfd66b5ca88c9da548c9dff89fcac6f647bebc3\n",
      "  Stored in directory: c:\\users\\venka\\appdata\\local\\pip\\cache\\wheels\\47\\15\\92\\e6dc85fcb0686c82e1edbcfdf80cfe4808c058813fed0baa8f\n",
      "Successfully built pycountry\n",
      "Installing collected packages: pycountry\n",
      "Successfully installed pycountry-22.3.5\n"
     ]
    }
   ],
   "source": [
    "get_ipython().system('pip install textblob')\n",
    "get_ipython().system('pip install pycountry')"
   ]
  },
  {
   "cell_type": "code",
   "execution_count": 8,
   "id": "2fe56a41",
   "metadata": {},
   "outputs": [],
   "source": [
    "from textblob import TextBlob\n",
    "import sys\n",
    "import matplotlib.pyplot as plt\n",
    "import numpy as np\n",
    "import os\n",
    "import nltk\n",
    "import pycountry\n",
    "import re\n",
    "import string\n"
   ]
  },
  {
   "cell_type": "code",
   "execution_count": 9,
   "id": "d17a30d5",
   "metadata": {},
   "outputs": [],
   "source": [
    "from PIL import Image\n",
    "from nltk.sentiment.vader import SentimentIntensityAnalyzer\n",
    "from nltk.stem import SnowballStemmer\n",
    "from nltk.sentiment.vader import SentimentIntensityAnalyzer\n",
    "from sklearn.feature_extraction.text import CountVectorizer"
   ]
  },
  {
   "cell_type": "code",
   "execution_count": 10,
   "id": "d72903e2",
   "metadata": {},
   "outputs": [
    {
     "name": "stderr",
     "output_type": "stream",
     "text": [
      "[nltk_data] Error loading vader_lexicon: <urlopen error [WinError\n",
      "[nltk_data]     10060] A connection attempt failed because the\n",
      "[nltk_data]     connected party did not properly respond after a\n",
      "[nltk_data]     period of time, or established connection failed\n",
      "[nltk_data]     because connected host has failed to respond>\n"
     ]
    },
    {
     "data": {
      "text/plain": [
       "False"
      ]
     },
     "execution_count": 10,
     "metadata": {},
     "output_type": "execute_result"
    }
   ],
   "source": [
    "import nltk\n",
    "nltk.downloader.download('vader_lexicon')"
   ]
  },
  {
   "cell_type": "code",
   "execution_count": 11,
   "id": "c076517b",
   "metadata": {},
   "outputs": [],
   "source": []
  },
  {
   "cell_type": "code",
   "execution_count": null,
   "id": "fa9b7d02",
   "metadata": {},
   "outputs": [],
   "source": []
  },
  {
   "cell_type": "code",
   "execution_count": null,
   "id": "f6f9467d",
   "metadata": {},
   "outputs": [],
   "source": []
  },
  {
   "cell_type": "code",
   "execution_count": null,
   "id": "37e29965",
   "metadata": {},
   "outputs": [],
   "source": []
  }
 ],
 "metadata": {
  "kernelspec": {
   "display_name": "Python 3 (ipykernel)",
   "language": "python",
   "name": "python3"
  },
  "language_info": {
   "codemirror_mode": {
    "name": "ipython",
    "version": 3
   },
   "file_extension": ".py",
   "mimetype": "text/x-python",
   "name": "python",
   "nbconvert_exporter": "python",
   "pygments_lexer": "ipython3",
   "version": "3.9.13"
  }
 },
 "nbformat": 4,
 "nbformat_minor": 5
}
